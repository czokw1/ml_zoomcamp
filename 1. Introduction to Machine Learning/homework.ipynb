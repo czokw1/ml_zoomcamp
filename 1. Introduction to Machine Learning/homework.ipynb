{
 "cells": [
  {
   "cell_type": "code",
   "execution_count": 1,
   "metadata": {},
   "outputs": [],
   "source": [
    "import pandas as pd\n",
    "import numpy as np"
   ]
  },
  {
   "cell_type": "code",
   "execution_count": 2,
   "metadata": {},
   "outputs": [],
   "source": [
    "Q1 =  np.__version__"
   ]
  },
  {
   "cell_type": "code",
   "execution_count": 3,
   "metadata": {},
   "outputs": [],
   "source": [
    "df = pd.read_csv('https://raw.githubusercontent.com/alexeygrigorev/mlbookcamp-code/master/chapter-02-car-price/data.csv')"
   ]
  },
  {
   "cell_type": "code",
   "execution_count": 4,
   "metadata": {},
   "outputs": [
    {
     "name": "stdout",
     "output_type": "stream",
     "text": [
      "<class 'pandas.core.frame.DataFrame'>\n",
      "RangeIndex: 11914 entries, 0 to 11913\n",
      "Data columns (total 16 columns):\n",
      " #   Column             Non-Null Count  Dtype  \n",
      "---  ------             --------------  -----  \n",
      " 0   Make               11914 non-null  object \n",
      " 1   Model              11914 non-null  object \n",
      " 2   Year               11914 non-null  int64  \n",
      " 3   Engine Fuel Type   11911 non-null  object \n",
      " 4   Engine HP          11845 non-null  float64\n",
      " 5   Engine Cylinders   11884 non-null  float64\n",
      " 6   Transmission Type  11914 non-null  object \n",
      " 7   Driven_Wheels      11914 non-null  object \n",
      " 8   Number of Doors    11908 non-null  float64\n",
      " 9   Market Category    8172 non-null   object \n",
      " 10  Vehicle Size       11914 non-null  object \n",
      " 11  Vehicle Style      11914 non-null  object \n",
      " 12  highway MPG        11914 non-null  int64  \n",
      " 13  city mpg           11914 non-null  int64  \n",
      " 14  Popularity         11914 non-null  int64  \n",
      " 15  MSRP               11914 non-null  int64  \n",
      "dtypes: float64(3), int64(5), object(8)\n",
      "memory usage: 1.5+ MB\n"
     ]
    }
   ],
   "source": [
    "df.info()"
   ]
  },
  {
   "cell_type": "code",
   "execution_count": 5,
   "metadata": {},
   "outputs": [],
   "source": [
    "Q2 = len(df)"
   ]
  },
  {
   "cell_type": "code",
   "execution_count": 6,
   "metadata": {},
   "outputs": [],
   "source": [
    "Q3 = df.groupby(['Make']).agg({'Make':'count'})['Make'].nlargest(3)\n",
    "Q3 = list(Q3.index)"
   ]
  },
  {
   "cell_type": "code",
   "execution_count": 7,
   "metadata": {},
   "outputs": [],
   "source": [
    "Q4 = df['Model'][(df['Make'] == 'Audi')].nunique()"
   ]
  },
  {
   "cell_type": "code",
   "execution_count": 8,
   "metadata": {},
   "outputs": [
    {
     "data": {
      "text/plain": [
       "5"
      ]
     },
     "execution_count": 8,
     "metadata": {},
     "output_type": "execute_result"
    }
   ],
   "source": [
    "Q5 = df.isnull().sum()>0\n",
    "Q5 = len(list(Q5[Q5==True].index))\n",
    "Q5"
   ]
  },
  {
   "cell_type": "code",
   "execution_count": 9,
   "metadata": {},
   "outputs": [],
   "source": [
    "\n",
    "median = df['Engine Cylinders'].median()\n",
    "\n",
    "most_freq_value = df['Engine Cylinders'].value_counts().head(1).index[0]\n",
    "df['Engine Cylinders'] = df['Engine Cylinders'].fillna(most_freq_value)\n",
    "\n",
    "Q6 = (df['Engine Cylinders'].median(),median)\n"
   ]
  },
  {
   "cell_type": "code",
   "execution_count": 10,
   "metadata": {},
   "outputs": [],
   "source": [
    "\n",
    "data =df[['Engine HP','Engine Cylinders']][df['Make']=='Lotus'].drop_duplicates().reset_index(drop=True)\n",
    "\n",
    "X = np.array(data)\n",
    "\n",
    "XTX = X.T.dot(X)\n",
    "\n",
    "inverted_XTX = np.linalg.inv(XTX)\n",
    "\n",
    "y = np.array([1100, 800, 750, 850, 1300, 1000, 1000, 1300, 800])\n",
    "\n",
    "w = (inverted_XTX.dot(X.T)).dot(y)\n",
    "Q7 = w[0]"
   ]
  },
  {
   "cell_type": "markdown",
   "metadata": {},
   "source": [
    "### Answers"
   ]
  },
  {
   "cell_type": "code",
   "execution_count": 20,
   "metadata": {},
   "outputs": [
    {
     "name": "stdout",
     "output_type": "stream",
     "text": [
      "Question 1: 1.21.5\n",
      "Question 2: 11914\n",
      "Question 3: ['Chevrolet', 'Ford', 'Volkswagen']\n",
      "Question 4: 34\n",
      "Question 5: 5\n",
      "Question 6: (6.0, 6.0)\n",
      "Question 7: 4.594944810094551\n"
     ]
    }
   ],
   "source": [
    "print(f'Question 1: {Q1}')\n",
    "print(f'Question 2: {Q2}')\n",
    "print(f'Question 3: {Q3}')\n",
    "print(f'Question 4: {Q4}')\n",
    "print(f'Question 5: {Q5}')\n",
    "print(f'Question 6: {Q6}')\n",
    "print(f'Question 7: {Q7}')"
   ]
  },
  {
   "cell_type": "markdown",
   "metadata": {},
   "source": []
  }
 ],
 "metadata": {
  "kernelspec": {
   "display_name": "Python 3.7.8 64-bit",
   "language": "python",
   "name": "python3"
  },
  "language_info": {
   "codemirror_mode": {
    "name": "ipython",
    "version": 3
   },
   "file_extension": ".py",
   "mimetype": "text/x-python",
   "name": "python",
   "nbconvert_exporter": "python",
   "pygments_lexer": "ipython3",
   "version": "3.7.8"
  },
  "orig_nbformat": 4,
  "vscode": {
   "interpreter": {
    "hash": "b4128a2c90770b08b0252ba9fb106b060bdf8c2891b599752142fd390d541858"
   }
  }
 },
 "nbformat": 4,
 "nbformat_minor": 2
}
